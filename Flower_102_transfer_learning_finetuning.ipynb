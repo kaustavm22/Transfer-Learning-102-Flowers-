{
  "nbformat": 4,
  "nbformat_minor": 0,
  "metadata": {
    "colab": {
      "provenance": [],
      "gpuType": "T4",
      "include_colab_link": true
    },
    "kernelspec": {
      "name": "python3",
      "display_name": "Python 3"
    },
    "language_info": {
      "name": "python"
    },
    "accelerator": "GPU"
  },
  "cells": [
    {
      "cell_type": "markdown",
      "metadata": {
        "id": "view-in-github",
        "colab_type": "text"
      },
      "source": [
        "<a href=\"https://colab.research.google.com/github/kaustavm22/Transfer-Learning-102-Flowers-/blob/main/Flower_102_transfer_learning_finetuning.ipynb\" target=\"_parent\"><img src=\"https://colab.research.google.com/assets/colab-badge.svg\" alt=\"Open In Colab\"/></a>"
      ]
    },
    {
      "cell_type": "code",
      "source": [
        "!mkdir -p ~/.kaggle\n",
        "!cp kaggle.json ~/.kaggle/"
      ],
      "metadata": {
        "id": "glOpKTvJcJua"
      },
      "execution_count": 1,
      "outputs": []
    },
    {
      "cell_type": "code",
      "source": [
        "!pip install keras"
      ],
      "metadata": {
        "colab": {
          "base_uri": "https://localhost:8080/"
        },
        "id": "e12B3usqjNGP",
        "outputId": "fa7b48a1-6f64-46a6-de6f-2b6a1735938f"
      },
      "execution_count": 2,
      "outputs": [
        {
          "output_type": "stream",
          "name": "stdout",
          "text": [
            "Requirement already satisfied: keras in /usr/local/lib/python3.10/dist-packages (2.15.0)\n"
          ]
        }
      ]
    },
    {
      "cell_type": "code",
      "source": [
        "!kaggle datasets download -d demonplus/flower-dataset-102"
      ],
      "metadata": {
        "id": "TbT67fLbM2Yz",
        "colab": {
          "base_uri": "https://localhost:8080/"
        },
        "outputId": "02969749-036e-4f75-da1b-09f086e7c10a"
      },
      "execution_count": 3,
      "outputs": [
        {
          "output_type": "stream",
          "name": "stdout",
          "text": [
            "Warning: Your Kaggle API key is readable by other users on this system! To fix this, you can run 'chmod 600 /root/.kaggle/kaggle.json'\n",
            "Downloading flower-dataset-102.zip to /content\n",
            "100% 329M/329M [00:02<00:00, 139MB/s]\n",
            "100% 329M/329M [00:02<00:00, 116MB/s]\n"
          ]
        }
      ]
    },
    {
      "cell_type": "code",
      "source": [
        "import zipfile\n",
        "zip_ref = zipfile.ZipFile('/content/flower-dataset-102.zip', 'r')\n",
        "zip_ref.extractall('/content')\n",
        "zip_ref.close()"
      ],
      "metadata": {
        "id": "CXz412Aip5B4"
      },
      "execution_count": 4,
      "outputs": []
    },
    {
      "cell_type": "code",
      "source": [
        "\n",
        "EPOCHS = 50\n",
        "BATCH_SIZE = 128\n",
        "LR = 1e-5\n",
        "VAL_SPLIT = 0.2\n",
        "\n",
        "CLASS_NUM = 102\n",
        "IMG_SIZE = 128\n",
        "IMG_CHANNELS = 3\n",
        "input_shape = (IMG_SIZE, IMG_SIZE, IMG_CHANNELS)\n",
        "PATH = '/jpg'\n",
        "\n",
        "\n"
      ],
      "metadata": {
        "id": "06lUQrGVgEF2"
      },
      "execution_count": 5,
      "outputs": []
    },
    {
      "cell_type": "code",
      "source": [
        "import tarfile\n",
        "opened_tgz = tarfile.open(\"102flowers.tgz\")\n",
        "opened_tgz.extractall(PATH)"
      ],
      "metadata": {
        "id": "Kpkl_2qPddMn"
      },
      "execution_count": 6,
      "outputs": []
    },
    {
      "cell_type": "code",
      "source": [
        "import tensorflow\n",
        "import pandas as pd\n",
        "from tensorflow import keras\n",
        "from tensorflow.keras.preprocessing.image import ImageDataGenerator, load_img\n",
        "import scipy\n",
        "from keras import Sequential\n",
        "from sklearn.model_selection import train_test_split\n",
        "from keras.layers import Dense,Flatten,Dropout,BatchNormalization\n",
        "from keras.applications.vgg16 import VGG16"
      ],
      "metadata": {
        "id": "8dAgedWkp8Pi"
      },
      "execution_count": 7,
      "outputs": []
    },
    {
      "cell_type": "code",
      "source": [
        "conv_base = VGG16(\n",
        "    weights='imagenet',\n",
        "    include_top = False,\n",
        "    input_shape=(150,150,3)\n",
        ")"
      ],
      "metadata": {
        "id": "xGeyBIoxp_ji",
        "colab": {
          "base_uri": "https://localhost:8080/"
        },
        "outputId": "81fd122e-2553-4111-94a5-7e7e8c984961"
      },
      "execution_count": 8,
      "outputs": [
        {
          "output_type": "stream",
          "name": "stdout",
          "text": [
            "Downloading data from https://storage.googleapis.com/tensorflow/keras-applications/vgg16/vgg16_weights_tf_dim_ordering_tf_kernels_notop.h5\n",
            "58889256/58889256 [==============================] - 0s 0us/step\n"
          ]
        }
      ]
    },
    {
      "cell_type": "code",
      "source": [
        "conv_base.trainable = True\n",
        "\n",
        "set_trainable = False\n",
        "\n",
        "for layer in conv_base.layers:\n",
        "  if layer.name == 'block5_conv1' :\n",
        "    set_trainable = True\n",
        "  if set_trainable:\n",
        "    layer.trainable = True\n",
        "  else:\n",
        "    layer.trainable = False\n",
        "\n",
        "for layer in conv_base.layers:\n",
        "  print(layer.name,layer.trainable)"
      ],
      "metadata": {
        "colab": {
          "base_uri": "https://localhost:8080/"
        },
        "id": "rsRlwtCUqB81",
        "outputId": "6ebf8815-87bf-423f-fc09-3dd84ace7e34"
      },
      "execution_count": 9,
      "outputs": [
        {
          "output_type": "stream",
          "name": "stdout",
          "text": [
            "input_1 False\n",
            "block1_conv1 False\n",
            "block1_conv2 False\n",
            "block1_pool False\n",
            "block2_conv1 False\n",
            "block2_conv2 False\n",
            "block2_pool False\n",
            "block3_conv1 False\n",
            "block3_conv2 False\n",
            "block3_conv3 False\n",
            "block3_pool False\n",
            "block4_conv1 False\n",
            "block4_conv2 False\n",
            "block4_conv3 False\n",
            "block4_pool False\n",
            "block5_conv1 True\n",
            "block5_conv2 True\n",
            "block5_conv3 True\n",
            "block5_pool True\n"
          ]
        }
      ]
    },
    {
      "cell_type": "code",
      "source": [
        "conv_base.summary()"
      ],
      "metadata": {
        "colab": {
          "base_uri": "https://localhost:8080/"
        },
        "id": "qMNnxAe8qxaj",
        "outputId": "a769f103-0a36-4fc3-fdee-2dde067af25a"
      },
      "execution_count": 10,
      "outputs": [
        {
          "output_type": "stream",
          "name": "stdout",
          "text": [
            "Model: \"vgg16\"\n",
            "_________________________________________________________________\n",
            " Layer (type)                Output Shape              Param #   \n",
            "=================================================================\n",
            " input_1 (InputLayer)        [(None, 150, 150, 3)]     0         \n",
            "                                                                 \n",
            " block1_conv1 (Conv2D)       (None, 150, 150, 64)      1792      \n",
            "                                                                 \n",
            " block1_conv2 (Conv2D)       (None, 150, 150, 64)      36928     \n",
            "                                                                 \n",
            " block1_pool (MaxPooling2D)  (None, 75, 75, 64)        0         \n",
            "                                                                 \n",
            " block2_conv1 (Conv2D)       (None, 75, 75, 128)       73856     \n",
            "                                                                 \n",
            " block2_conv2 (Conv2D)       (None, 75, 75, 128)       147584    \n",
            "                                                                 \n",
            " block2_pool (MaxPooling2D)  (None, 37, 37, 128)       0         \n",
            "                                                                 \n",
            " block3_conv1 (Conv2D)       (None, 37, 37, 256)       295168    \n",
            "                                                                 \n",
            " block3_conv2 (Conv2D)       (None, 37, 37, 256)       590080    \n",
            "                                                                 \n",
            " block3_conv3 (Conv2D)       (None, 37, 37, 256)       590080    \n",
            "                                                                 \n",
            " block3_pool (MaxPooling2D)  (None, 18, 18, 256)       0         \n",
            "                                                                 \n",
            " block4_conv1 (Conv2D)       (None, 18, 18, 512)       1180160   \n",
            "                                                                 \n",
            " block4_conv2 (Conv2D)       (None, 18, 18, 512)       2359808   \n",
            "                                                                 \n",
            " block4_conv3 (Conv2D)       (None, 18, 18, 512)       2359808   \n",
            "                                                                 \n",
            " block4_pool (MaxPooling2D)  (None, 9, 9, 512)         0         \n",
            "                                                                 \n",
            " block5_conv1 (Conv2D)       (None, 9, 9, 512)         2359808   \n",
            "                                                                 \n",
            " block5_conv2 (Conv2D)       (None, 9, 9, 512)         2359808   \n",
            "                                                                 \n",
            " block5_conv3 (Conv2D)       (None, 9, 9, 512)         2359808   \n",
            "                                                                 \n",
            " block5_pool (MaxPooling2D)  (None, 4, 4, 512)         0         \n",
            "                                                                 \n",
            "=================================================================\n",
            "Total params: 14714688 (56.13 MB)\n",
            "Trainable params: 7079424 (27.01 MB)\n",
            "Non-trainable params: 7635264 (29.13 MB)\n",
            "_________________________________________________________________\n"
          ]
        }
      ]
    },
    {
      "cell_type": "code",
      "source": [
        "def get_filenames(tgz):\n",
        "    with tarfile.open(tgz) as file:\n",
        "        return [i.name for i in file.getmembers() if i.isfile()]\n",
        "\n",
        "\n",
        "df = pd.DataFrame()\n",
        "df['Id'] = sorted(get_filenames('102flowers.tgz'))\n",
        "df['Category'] = scipy.io.loadmat('imagelabels.mat')['labels'][0] - 1\n",
        "df['Category'] = df['Category'].astype('str')\n",
        "\n",
        "print(df.head(4))\n"
      ],
      "metadata": {
        "colab": {
          "base_uri": "https://localhost:8080/"
        },
        "id": "U3qz_hmjjzsC",
        "outputId": "acabe970-4465-4438-f7cb-78a02b5048dd"
      },
      "execution_count": 14,
      "outputs": [
        {
          "output_type": "stream",
          "name": "stdout",
          "text": [
            "                    Id Category\n",
            "0  jpg/image_00001.jpg       76\n",
            "1  jpg/image_00002.jpg       76\n",
            "2  jpg/image_00003.jpg       76\n",
            "3  jpg/image_00004.jpg       76\n"
          ]
        }
      ]
    },
    {
      "cell_type": "code",
      "source": [
        "# train/test splitting\n",
        "X_train, X_test, y_train, y_test = train_test_split(df['Id'], df['Category'], test_size=0.2, stratify=df['Category'])\n",
        "\n",
        "X_train = pd.DataFrame(X_train)\n",
        "X_test = pd.DataFrame(X_test)\n",
        "\n",
        "X_train['Category'] = y_train\n",
        "X_test['Category'] = y_test\n",
        "\n",
        "print(f\"Shape of the Train Data: {X_train.shape}\\nShape of the Test Data: {X_test.shape}\")"
      ],
      "metadata": {
        "colab": {
          "base_uri": "https://localhost:8080/"
        },
        "id": "wehgFRoIkNs-",
        "outputId": "e7b9cf95-b379-4138-94e0-da929eea3175"
      },
      "execution_count": 15,
      "outputs": [
        {
          "output_type": "stream",
          "name": "stdout",
          "text": [
            "Shape of the Train Data: (6551, 2)\n",
            "Shape of the Test Data: (1638, 2)\n"
          ]
        }
      ]
    },
    {
      "cell_type": "code",
      "source": [
        "# Augmentation is very important part when you do not have a big data to train the model\n",
        "train_datagen = ImageDataGenerator(rescale=1. / 255,\n",
        "                                   rotation_range=50, shear_range=0.2,\n",
        "                                   zoom_range=[0.75, 1.25],\n",
        "                                   brightness_range=[0.5, 1.5],\n",
        "                                   width_shift_range=0.1,\n",
        "                                   height_shift_range=0.1,\n",
        "                                   horizontal_flip=True)\n",
        "\n",
        "test_datagen = ImageDataGenerator(rescale=1. / 255)"
      ],
      "metadata": {
        "id": "oc_I1RsulyFA"
      },
      "execution_count": 16,
      "outputs": []
    },
    {
      "cell_type": "code",
      "source": [
        "\n",
        "\n",
        "# Wrapping all data to the generator\n",
        "train_datagen = train_datagen.flow_from_dataframe(dataframe=X_train, directory=PATH, x_col='Id', y_col=\"Category\",\n",
        "                                                    target_size=(IMG_SIZE, IMG_SIZE), batch_size=BATCH_SIZE,\n",
        "                                                    class_mode='categorical',\n",
        "                                                    shuffle=True, seed=42)\n",
        "\n",
        "test_datagen = test_datagen.flow_from_dataframe(dataframe=X_test, directory=PATH, x_col='Id', y_col=\"Category\",\n",
        "                                                  target_size=(IMG_SIZE, IMG_SIZE), batch_size=BATCH_SIZE,\n",
        "                                                  class_mode='categorical',\n",
        "                                                  shuffle=False, seed=42)"
      ],
      "metadata": {
        "colab": {
          "base_uri": "https://localhost:8080/"
        },
        "id": "js3QmFghq1AC",
        "outputId": "f48d6f95-c952-45ee-fe74-db7934815e65"
      },
      "execution_count": 17,
      "outputs": [
        {
          "output_type": "stream",
          "name": "stdout",
          "text": [
            "Found 6551 validated image filenames belonging to 102 classes.\n",
            "Found 1638 validated image filenames belonging to 102 classes.\n"
          ]
        }
      ]
    },
    {
      "cell_type": "code",
      "source": [
        "model = Sequential()\n",
        "\n",
        "model.add(conv_base)\n",
        "model.add(BatchNormalization())\n",
        "model.add(Flatten())\n",
        "model.add(Dense(256,activation='relu'))\n",
        "model.add(Dropout(0.2))\n",
        "model.add(Dense(CLASS_NUM,activation='softmax'))"
      ],
      "metadata": {
        "id": "MuCh9EqrsMPK"
      },
      "execution_count": 18,
      "outputs": []
    },
    {
      "cell_type": "code",
      "source": [
        "model.compile(\n",
        "    optimizer=keras.optimizers.RMSprop(learning_rate=LR),\n",
        "    loss='categorical_crossentropy',\n",
        "    metrics=['accuracy']\n",
        "  )"
      ],
      "metadata": {
        "id": "nxUjDM6Nr5Qp"
      },
      "execution_count": 19,
      "outputs": []
    },
    {
      "cell_type": "code",
      "source": [
        "history = model.fit(train_datagen,epochs=EPOCHS,validation_data=test_datagen)"
      ],
      "metadata": {
        "colab": {
          "base_uri": "https://localhost:8080/"
        },
        "id": "tiat79J_sG6W",
        "outputId": "fb4b8d46-345a-4e3d-84ed-22b7c69f0e94"
      },
      "execution_count": 23,
      "outputs": [
        {
          "output_type": "stream",
          "name": "stdout",
          "text": [
            "Epoch 1/50\n",
            "52/52 [==============================] - 70s 1s/step - loss: 4.9194 - accuracy: 0.0223 - val_loss: 4.5876 - val_accuracy: 0.0177\n",
            "Epoch 2/50\n",
            "52/52 [==============================] - 50s 950ms/step - loss: 4.5352 - accuracy: 0.0543 - val_loss: 4.3793 - val_accuracy: 0.0739\n",
            "Epoch 3/50\n",
            "52/52 [==============================] - 48s 930ms/step - loss: 4.2490 - accuracy: 0.0962 - val_loss: 4.1325 - val_accuracy: 0.1355\n",
            "Epoch 4/50\n",
            "52/52 [==============================] - 49s 933ms/step - loss: 4.0118 - accuracy: 0.1427 - val_loss: 3.8180 - val_accuracy: 0.2088\n",
            "Epoch 5/50\n",
            "52/52 [==============================] - 48s 930ms/step - loss: 3.7563 - accuracy: 0.1879 - val_loss: 3.5063 - val_accuracy: 0.2674\n",
            "Epoch 6/50\n",
            "52/52 [==============================] - 49s 935ms/step - loss: 3.5306 - accuracy: 0.2331 - val_loss: 3.2184 - val_accuracy: 0.3211\n",
            "Epoch 7/50\n",
            "52/52 [==============================] - 48s 932ms/step - loss: 3.2815 - accuracy: 0.2815 - val_loss: 2.9105 - val_accuracy: 0.3761\n",
            "Epoch 8/50\n",
            "52/52 [==============================] - 49s 940ms/step - loss: 3.1042 - accuracy: 0.3149 - val_loss: 2.6590 - val_accuracy: 0.4206\n",
            "Epoch 9/50\n",
            "52/52 [==============================] - 48s 931ms/step - loss: 2.9059 - accuracy: 0.3546 - val_loss: 2.4327 - val_accuracy: 0.4603\n",
            "Epoch 10/50\n",
            "52/52 [==============================] - 49s 942ms/step - loss: 2.7397 - accuracy: 0.3804 - val_loss: 2.2521 - val_accuracy: 0.4963\n",
            "Epoch 11/50\n",
            "52/52 [==============================] - 48s 923ms/step - loss: 2.5799 - accuracy: 0.4135 - val_loss: 2.0811 - val_accuracy: 0.5208\n",
            "Epoch 12/50\n",
            "52/52 [==============================] - 48s 926ms/step - loss: 2.4175 - accuracy: 0.4401 - val_loss: 1.9448 - val_accuracy: 0.5458\n",
            "Epoch 13/50\n",
            "52/52 [==============================] - 48s 929ms/step - loss: 2.3014 - accuracy: 0.4700 - val_loss: 1.8301 - val_accuracy: 0.5659\n",
            "Epoch 14/50\n",
            "52/52 [==============================] - 49s 935ms/step - loss: 2.1744 - accuracy: 0.4961 - val_loss: 1.7496 - val_accuracy: 0.5873\n",
            "Epoch 15/50\n",
            "52/52 [==============================] - 49s 934ms/step - loss: 2.0781 - accuracy: 0.5063 - val_loss: 1.6496 - val_accuracy: 0.5995\n",
            "Epoch 16/50\n",
            "52/52 [==============================] - 49s 933ms/step - loss: 1.9810 - accuracy: 0.5277 - val_loss: 1.5438 - val_accuracy: 0.6288\n",
            "Epoch 17/50\n",
            "52/52 [==============================] - 49s 945ms/step - loss: 1.8618 - accuracy: 0.5492 - val_loss: 1.4583 - val_accuracy: 0.6441\n",
            "Epoch 18/50\n",
            "52/52 [==============================] - 49s 959ms/step - loss: 1.7979 - accuracy: 0.5659 - val_loss: 1.3955 - val_accuracy: 0.6538\n",
            "Epoch 19/50\n",
            "52/52 [==============================] - 49s 932ms/step - loss: 1.7011 - accuracy: 0.5917 - val_loss: 1.3283 - val_accuracy: 0.6752\n",
            "Epoch 20/50\n",
            "52/52 [==============================] - 49s 939ms/step - loss: 1.6082 - accuracy: 0.6051 - val_loss: 1.2520 - val_accuracy: 0.6886\n",
            "Epoch 21/50\n",
            "52/52 [==============================] - 49s 938ms/step - loss: 1.5623 - accuracy: 0.6133 - val_loss: 1.2027 - val_accuracy: 0.7015\n",
            "Epoch 22/50\n",
            "52/52 [==============================] - 49s 937ms/step - loss: 1.5009 - accuracy: 0.6257 - val_loss: 1.1552 - val_accuracy: 0.7137\n",
            "Epoch 23/50\n",
            "52/52 [==============================] - 49s 935ms/step - loss: 1.4202 - accuracy: 0.6523 - val_loss: 1.1005 - val_accuracy: 0.7259\n",
            "Epoch 24/50\n",
            "52/52 [==============================] - 49s 942ms/step - loss: 1.3678 - accuracy: 0.6652 - val_loss: 1.0591 - val_accuracy: 0.7375\n",
            "Epoch 25/50\n",
            "52/52 [==============================] - 49s 932ms/step - loss: 1.3126 - accuracy: 0.6753 - val_loss: 1.0196 - val_accuracy: 0.7521\n",
            "Epoch 26/50\n",
            "52/52 [==============================] - 49s 933ms/step - loss: 1.2838 - accuracy: 0.6776 - val_loss: 0.9991 - val_accuracy: 0.7521\n",
            "Epoch 27/50\n",
            "52/52 [==============================] - 50s 965ms/step - loss: 1.2084 - accuracy: 0.6993 - val_loss: 0.9468 - val_accuracy: 0.7564\n",
            "Epoch 28/50\n",
            "52/52 [==============================] - 51s 976ms/step - loss: 1.1626 - accuracy: 0.7055 - val_loss: 0.9188 - val_accuracy: 0.7662\n",
            "Epoch 29/50\n",
            "52/52 [==============================] - 50s 958ms/step - loss: 1.1316 - accuracy: 0.7072 - val_loss: 0.8898 - val_accuracy: 0.7741\n",
            "Epoch 30/50\n",
            "52/52 [==============================] - 50s 962ms/step - loss: 1.0895 - accuracy: 0.7210 - val_loss: 0.8743 - val_accuracy: 0.7802\n",
            "Epoch 31/50\n",
            "52/52 [==============================] - 50s 953ms/step - loss: 1.0375 - accuracy: 0.7362 - val_loss: 0.8340 - val_accuracy: 0.7894\n",
            "Epoch 32/50\n",
            "52/52 [==============================] - 50s 960ms/step - loss: 1.0197 - accuracy: 0.7370 - val_loss: 0.8263 - val_accuracy: 0.7833\n",
            "Epoch 33/50\n",
            "52/52 [==============================] - 50s 953ms/step - loss: 0.9797 - accuracy: 0.7535 - val_loss: 0.7919 - val_accuracy: 0.7967\n",
            "Epoch 34/50\n",
            "52/52 [==============================] - 49s 944ms/step - loss: 0.9509 - accuracy: 0.7567 - val_loss: 0.7806 - val_accuracy: 0.7961\n",
            "Epoch 35/50\n",
            "52/52 [==============================] - 50s 954ms/step - loss: 0.9176 - accuracy: 0.7577 - val_loss: 0.7666 - val_accuracy: 0.7991\n",
            "Epoch 36/50\n",
            "52/52 [==============================] - 50s 957ms/step - loss: 0.9089 - accuracy: 0.7646 - val_loss: 0.7659 - val_accuracy: 0.8028\n",
            "Epoch 37/50\n",
            "52/52 [==============================] - 49s 946ms/step - loss: 0.8974 - accuracy: 0.7645 - val_loss: 0.7284 - val_accuracy: 0.8101\n",
            "Epoch 38/50\n",
            "52/52 [==============================] - 50s 955ms/step - loss: 0.8381 - accuracy: 0.7808 - val_loss: 0.7099 - val_accuracy: 0.8175\n",
            "Epoch 39/50\n",
            "52/52 [==============================] - 49s 936ms/step - loss: 0.8044 - accuracy: 0.7922 - val_loss: 0.7028 - val_accuracy: 0.8132\n",
            "Epoch 40/50\n",
            "52/52 [==============================] - 51s 989ms/step - loss: 0.7789 - accuracy: 0.7990 - val_loss: 0.6923 - val_accuracy: 0.8095\n",
            "Epoch 41/50\n",
            "52/52 [==============================] - 49s 940ms/step - loss: 0.7711 - accuracy: 0.8002 - val_loss: 0.6685 - val_accuracy: 0.8205\n",
            "Epoch 42/50\n",
            "52/52 [==============================] - 50s 952ms/step - loss: 0.7443 - accuracy: 0.8026 - val_loss: 0.6653 - val_accuracy: 0.8236\n",
            "Epoch 43/50\n",
            "52/52 [==============================] - 49s 941ms/step - loss: 0.7341 - accuracy: 0.8063 - val_loss: 0.6509 - val_accuracy: 0.8260\n",
            "Epoch 44/50\n",
            "52/52 [==============================] - 50s 954ms/step - loss: 0.7232 - accuracy: 0.8072 - val_loss: 0.6461 - val_accuracy: 0.8254\n",
            "Epoch 45/50\n",
            "52/52 [==============================] - 49s 939ms/step - loss: 0.7032 - accuracy: 0.8193 - val_loss: 0.6173 - val_accuracy: 0.8321\n",
            "Epoch 46/50\n",
            "52/52 [==============================] - 50s 952ms/step - loss: 0.6708 - accuracy: 0.8240 - val_loss: 0.6054 - val_accuracy: 0.8370\n",
            "Epoch 47/50\n",
            "52/52 [==============================] - 50s 957ms/step - loss: 0.6457 - accuracy: 0.8293 - val_loss: 0.6025 - val_accuracy: 0.8315\n",
            "Epoch 48/50\n",
            "52/52 [==============================] - 51s 975ms/step - loss: 0.6500 - accuracy: 0.8278 - val_loss: 0.5995 - val_accuracy: 0.8388\n",
            "Epoch 49/50\n",
            "52/52 [==============================] - 49s 938ms/step - loss: 0.6260 - accuracy: 0.8274 - val_loss: 0.5921 - val_accuracy: 0.8382\n",
            "Epoch 50/50\n",
            "52/52 [==============================] - 49s 934ms/step - loss: 0.6152 - accuracy: 0.8356 - val_loss: 0.5795 - val_accuracy: 0.8413\n"
          ]
        }
      ]
    },
    {
      "cell_type": "code",
      "source": [
        "import matplotlib.pyplot as plt\n",
        "\n",
        "plt.plot(history.history['accuracy'],color='red',label='train')\n",
        "plt.plot(history.history['val_accuracy'],color='blue',label='validation')\n",
        "plt.legend()\n",
        "plt.show()"
      ],
      "metadata": {
        "colab": {
          "base_uri": "https://localhost:8080/",
          "height": 430
        },
        "id": "M8c6eVF4sVTT",
        "outputId": "4dbbcdc1-e07e-440f-f551-82d8ab76471f"
      },
      "execution_count": 24,
      "outputs": [
        {
          "output_type": "display_data",
          "data": {
            "text/plain": [
              "<Figure size 640x480 with 1 Axes>"
            ],
            "image/png": "[encoded data removed]"
          },
          "metadata": {}
        }
      ]
    },
    {
      "cell_type": "code",
      "source": [
        "plt.plot(history.history['loss'],color='red',label='train')\n",
        "plt.plot(history.history['val_loss'],color='blue',label='validation')\n",
        "plt.legend()\n",
        "plt.show()"
      ],
      "metadata": {
        "colab": {
          "base_uri": "https://localhost:8080/",
          "height": 432
        },
        "id": "Ap3-7R0swWTo",
        "outputId": "b5e43edf-77e6-4d60-db0c-c0e8e87ddaef"
      },
      "execution_count": null,
      "outputs": [
        {
          "output_type": "display_data",
          "data": {
            "text/plain": [
              "<Figure size 640x480 with 1 Axes>"
            ],
            "image/png": "[encoded data removed]"
          },
          "metadata": {}
        }
      ]
    },
    {
      "cell_type": "code",
      "source": [
        "model.save('cnn1.keras')"
      ],
      "metadata": {
        "id": "Yb8ocI6PwX-d"
      },
      "execution_count": 25,
      "outputs": []
    },
    {
      "cell_type": "code",
      "source": [],
      "metadata": {
        "id": "LcqmiPMkRbDx"
      },
      "execution_count": null,
      "outputs": []
    },
    {
      "cell_type": "code",
      "source": [],
      "metadata": {
        "id": "YslkGR4wRbSA"
      },
      "execution_count": null,
      "outputs": []
    }
  ]
}